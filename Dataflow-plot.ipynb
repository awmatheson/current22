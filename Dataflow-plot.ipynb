{
 "cells": [
  {
   "cell_type": "markdown",
   "id": "5cd1c28b",
   "metadata": {},
   "source": [
    "## Detecting Fires and Malfunctioning Sensors\n",
    "\n",
    "Let's build a dataflow to analyze how we can use anomaly detection and some deterministic methods to determine faulty sensors or fires.\n"
   ]
  },
  {
   "cell_type": "code",
   "execution_count": 1,
   "id": "f36bb233",
   "metadata": {},
   "outputs": [],
   "source": [
    "import json\n",
    "from datetime import datetime, timedelta, timezone\n",
    "import sys\n",
    "import os\n",
    "from collections import defaultdict\n",
    "\n",
    "import requests\n",
    "\n",
    "from geopy.geocoders import Nominatim\n",
    "from bytewax.dataflow import Dataflow\n",
    "from bytewax.inputs import KafkaInputConfig \n",
    "from bytewax.outputs import ManualOutputConfig, StdOutputConfig\n",
    "from bytewax.window import TumblingWindowConfig, EventClockConfig\n",
    "from bytewax.execution import run_main\n",
    "\n",
    "from scipy.stats import variation\n",
    "\n",
    "from river import anomaly\n",
    "\n",
    "import matplotlib.pyplot as plt\n",
    "from matplotlib.animation import FuncAnimation"
   ]
  },
  {
   "cell_type": "code",
   "execution_count": 2,
   "id": "b1bb1468",
   "metadata": {},
   "outputs": [],
   "source": [
    "WEBHOOK_URL = os.getenv(\"WEBHOOK_URL\")"
   ]
  },
  {
   "cell_type": "markdown",
   "id": "ddc67b6f",
   "metadata": {},
   "source": [
    "### Kafka Input\n",
    "\n",
    "To start with, we are going to create our Dataflow object and then specify our input source.\n",
    "\n",
    "For this example, since we are consuming a known, bounded stream of data, we will specify the starting offset as the beginning and the tail as false."
   ]
  },
  {
   "cell_type": "code",
   "execution_count": 3,
   "id": "3121b84b",
   "metadata": {},
   "outputs": [],
   "source": [
    "# Define Dataflow and input configuration\n",
    "flow = Dataflow()\n",
    "flow.input(\n",
    "    \"aqi_state\", \n",
    "    KafkaInputConfig(\n",
    "        brokers=[\"localhost:9092\"], \n",
    "        topic=\"sensor_data\",\n",
    "        starting_offset = \"beginning\",\n",
    "        tail = False\n",
    "        )\n",
    "    )"
   ]
  },
  {
   "cell_type": "code",
   "execution_count": 4,
   "id": "0930ec2b",
   "metadata": {},
   "outputs": [],
   "source": [
    "# Deserialize input for processing\n",
    "def deserialize(key_bytes__payload_bytes):\n",
    "    key_bytes, payload_bytes = key_bytes__payload_bytes\n",
    "    key = json.loads(key_bytes) if key_bytes else None\n",
    "    sensor_data = json.loads(payload_bytes) if payload_bytes else None\n",
    "    return key, sensor_data\n",
    "\n",
    "flow.map(deserialize)"
   ]
  },
  {
   "cell_type": "code",
   "execution_count": 5,
   "id": "408a189b",
   "metadata": {},
   "outputs": [],
   "source": [
    "# anomaly detector Class for stateful map\n",
    "class AnomalyDetector:\n",
    "\n",
    "    def __init__(self, n_trees=10, height=8, window_size=72, seed=11):\n",
    "        self.detector = anomaly.HalfSpaceTrees(\n",
    "                                                n_trees=n_trees,\n",
    "                                                height=height,\n",
    "                                                window_size=window_size,\n",
    "                                                # we are using 1200 as the max for this\n",
    "                                                # dataset since we know in advanced it\n",
    "                                                # is the highest\n",
    "                                                limits={'x': (0.0, 1200)},\n",
    "                                                seed=seed\n",
    "                                                )\n",
    "    \n",
    "    def update(self, data):\n",
    "        data['score'] = self.detector.score_one({'x': float(data['PM2.5_CF1_ug/m3'])})\n",
    "        self.detector.learn_one({'x': float(data['PM2.5_CF1_ug/m3'])})\n",
    "        return self, data\n",
    "\n",
    "flow.stateful_map(\n",
    "    step_id = \"anomaly_detector\",\n",
    "    builder = lambda: AnomalyDetector(n_trees=4, height=3, window_size=50, seed=11),\n",
    "    mapper = AnomalyDetector.update,\n",
    ")"
   ]
  },
  {
   "cell_type": "code",
   "execution_count": null,
   "id": "9a85e9d0",
   "metadata": {},
   "outputs": [
    {
     "data": {
      "image/png": "[encoded data removed]",
      "text/plain": [
       "<Figure size 640x480 with 1 Axes>"
      ]
     },
     "metadata": {},
     "output_type": "display_data"
    }
   ],
   "source": [
    "class DrawPlot():\n",
    "    \n",
    "    def __init__(self):\n",
    "        # define plot\n",
    "        self.fig = plt.figure()\n",
    "        self.ax = self.fig.add_subplot(1, 1, 1) \n",
    "        self.xs = defaultdict(list)\n",
    "        self.ys = defaultdict(list)\n",
    "        \n",
    "        # Format plot\n",
    "#         plt.xticks(rotation=45, ha='right')\n",
    "#         plt.subplots_adjust(bottom=0.30)\n",
    "        plt.title('PM2.5 over Time')\n",
    "        plt.ylabel('CF1_ug/m3')\n",
    "\n",
    "        plt.show()\n",
    "    \n",
    "    def plot(self, key__data):\n",
    "        #plot stuff\n",
    "        key, sensor_data = key__data\n",
    "        # Add x and y to lists\n",
    "        self.xs[key].append(sensor_data['created_at'])\n",
    "        self.ys[key].append(sensor_data['PM2.5_CF1_ug/m3'])\n",
    "\n",
    "        # Limit x and y lists to 20 items\n",
    "        self.xs[key] = self.xs[key][-20:]\n",
    "        self.ys[key] = self.ys[key][-20:]\n",
    "\n",
    "        # Draw x and y lists\n",
    "        self.ax.clear()\n",
    "#         for _key in self.xs.keys():\n",
    "        self.ax.plot([12,13,14,15], [12,13,14,15])\n",
    "                \n",
    "\n",
    "dp = DrawPlot()\n",
    "flow.inspect(dp.plot)\n",
    "run_main(flow)"
   ]
  },
  {
   "cell_type": "code",
   "execution_count": 7,
   "id": "1633de5e",
   "metadata": {},
   "outputs": [],
   "source": [
    "# threshold filtering\n",
    "flow.filter(lambda x: x[1]['score']>0.7)\n",
    "flow.filter(lambda x: float(x[1]['PM2.5_CF1_ug/m3'])>50)"
   ]
  },
  {
   "cell_type": "code",
   "execution_count": 8,
   "id": "9e53ee8c",
   "metadata": {},
   "outputs": [],
   "source": [
    "# flow.capture(StdOutputConfig())\n",
    "# run_main(flow)"
   ]
  },
  {
   "cell_type": "code",
   "execution_count": 9,
   "id": "189747f4",
   "metadata": {},
   "outputs": [],
   "source": [
    "# reformat to group by region instead of by individual sensor\n",
    "def groupby_region(loc__data):\n",
    "    coordinates, data = loc__data\n",
    "    # add the sensor location to the data payload\n",
    "    data[\"coordinates\"] = coordinates\n",
    "\n",
    "    # Uncomment this code if you want to convert the lat, long to county automatically\n",
    "    # locator = Nominatim(user_agent=\"myGeocoder\")\n",
    "    # location = locator.reverse(coordinates)\n",
    "    # key = location.raw['address']['county']\n",
    "\n",
    "    # since we know the location of these we will mark the key manually\n",
    "    # as the generalized area we are interested in \n",
    "    key = \"Lake Tahoe\"\n",
    "    return key, data\n",
    "\n",
    "flow.map(groupby_region)"
   ]
  },
  {
   "cell_type": "code",
   "execution_count": 10,
   "id": "8ed74e21",
   "metadata": {},
   "outputs": [],
   "source": [
    "# setup an event-time based window to be used with `created_at` field\n",
    "def get_event_time(event):\n",
    "    return datetime.strptime(event[\"created_at\"], \"%Y-%m-%d %H:%M:%S %Z\").replace(tzinfo=timezone.utc)\n",
    "\n",
    "# We need to specify a wait time that is as long as the difference between\n",
    "# the oldest (2022-07-01) and the newest (2022-09-18) to ensure out of order\n",
    "# events are handled correctly\n",
    "cc = EventClockConfig(get_event_time, wait_for_system_duration=timedelta(hours=12))\n",
    "\n",
    "# Manually set the start time for this dataflow, this is known for this dataset \n",
    "start_at = datetime.strptime(\"2022-07-01 00:00:00 UTC\", \"%Y-%m-%d %H:%M:%S %Z\").replace(tzinfo=timezone.utc)\n",
    "wc = TumblingWindowConfig(start_at=start_at, length=timedelta(hours=24))\n",
    "\n",
    "# Anomalies class to be used in the event-time window\n",
    "class Anomalies:\n",
    "\n",
    "    def __init__(self):\n",
    "        self.sensors = []\n",
    "        self.times = []\n",
    "        self.values = []\n",
    "\n",
    "    def update(self, event):\n",
    "        self.sensors.append(event[\"coordinates\"])\n",
    "        self.times.append(event[\"created_at\"])\n",
    "        self.values.append(float(event[\"PM2.5_CF1_ug/m3\"]))\n",
    "\n",
    "        return self\n",
    "\n",
    "flow.fold_window(\"count_sensors\", cc, wc, Anomalies, Anomalies.update)"
   ]
  },
  {
   "cell_type": "code",
   "execution_count": 11,
   "id": "70c538b3",
   "metadata": {},
   "outputs": [],
   "source": [
    "# Calculate some statistics and use rules to separate smoke events from malfunctions\n",
    "def convert(key__anomalies):\n",
    "    key, anomalies = key__anomalies\n",
    "    \n",
    "    # check is more than one sensor anomalous\n",
    "    count_sensors = len(set(anomalies.sensors))\n",
    "    count_anomalies = len(anomalies.values)\n",
    "    min_event = min(anomalies.times)\n",
    "    max_pm25 = max(anomalies.values)\n",
    "    sensors = set(anomalies.sensors)\n",
    "    malfunction = False\n",
    "    anom_variance = None\n",
    "\n",
    "    if count_sensors < 2:\n",
    "        if count_anomalies < 10:\n",
    "            malfunction = True\n",
    "        else:\n",
    "            # simplification, if there is wild variance in the data it is \n",
    "            # possibly a false positive\n",
    "            anom_variance = variation(anomalies.values)\n",
    "            if anom_variance > 0.3:\n",
    "                malfunction = True\n",
    "\n",
    "    return (key, {\n",
    "            \"sensors\": sensors,\n",
    "            \"count_sensors\": count_sensors,\n",
    "            \"count_anomalies\": count_anomalies,\n",
    "            \"anomalies\": anomalies.values,\n",
    "            \"min_event\": min_event,\n",
    "            \"max_pm25\": max_pm25,\n",
    "            \"variance\": anom_variance,\n",
    "            \"malfunction\": malfunction\n",
    "            })\n",
    "\n",
    "flow.map(convert)\n",
    "flow.inspect(print)"
   ]
  },
  {
   "cell_type": "code",
   "execution_count": 12,
   "id": "817f17ed",
   "metadata": {},
   "outputs": [],
   "source": [
    "# output smoke event data to slack channel\n",
    "def output_builder(worker_index, worker_count):\n",
    "    \n",
    "    def send_to_slack(key__sensor_data):\n",
    "        location, sensor_data = key__sensor_data\n",
    "        if sensor_data['malfunction']:\n",
    "            message = f'''In {location} was a malfunctioning sensor at location\n",
    "                            {sensor_data['sensors']} at {sensor_data['min_event']}'''\n",
    "            title = (f\"Malfunctioning Sensor\")\n",
    "        else:\n",
    "            message = f'''In {location} there is a suspected smoke event from a fire reported \n",
    "                        by sensors at {sensor_data['sensors']} at {sensor_data['min_event']}'''\n",
    "            title = (f\"Suspected Smoke Event\")\n",
    "        slack_data = {\n",
    "            \"username\": \"Air Quality Bot\",\n",
    "            \"icon_emoji\": \":satellite:\",\n",
    "            \"channel\" : \"#hacking-on-bytewax\",\n",
    "            \"attachments\": [\n",
    "                {\n",
    "                    \"color\": \"#9733EE\",\n",
    "                    \"fields\": [\n",
    "                        {\n",
    "                            \"title\": title,\n",
    "                            \"value\": message,\n",
    "                            \"short\": \"false\",\n",
    "                        }\n",
    "                    ]\n",
    "                }\n",
    "            ]\n",
    "        }\n",
    "        byte_length = str(sys.getsizeof(slack_data))\n",
    "        headers = {'Content-Type': \"application/json\", 'Content-Length': byte_length}\n",
    "        response = requests.post(WEBHOOK_URL, data=json.dumps(slack_data), headers=headers)\n",
    "        if response.status_code != 200:\n",
    "            raise Exception(response.status_code, response.text)\n",
    "\n",
    "    return send_to_slack\n",
    "\n",
    "flow.capture(\n",
    "    # StdOutputConfig()\n",
    "    ManualOutputConfig(output_builder)\n",
    "    )"
   ]
  },
  {
   "cell_type": "code",
   "execution_count": 12,
   "id": "b439da3b",
   "metadata": {},
   "outputs": [
    {
     "name": "stderr",
     "output_type": "stream",
     "text": [
      "thread '<unnamed>' panicked at 'Box<dyn Any>', src/operators/mod.rs:61:27\n"
     ]
    },
    {
     "ename": "UnboundLocalError",
     "evalue": "local variable 'xs' referenced before assignment",
     "output_type": "error",
     "traceback": [
      "\u001b[0;31m---------------------------------------------------------------------------\u001b[0m",
      "\u001b[0;31mUnboundLocalError\u001b[0m                         Traceback (most recent call last)",
      "Cell \u001b[0;32mIn [12], line 1\u001b[0m\n\u001b[0;32m----> 1\u001b[0m \u001b[43mrun_main\u001b[49m\u001b[43m(\u001b[49m\u001b[43mflow\u001b[49m\u001b[43m)\u001b[49m\n",
      "Cell \u001b[0;32mIn [11], line 12\u001b[0m, in \u001b[0;36mdraw_plot.<locals>.plot\u001b[0;34m(key__data)\u001b[0m\n\u001b[1;32m     10\u001b[0m key, sensor_data \u001b[38;5;241m=\u001b[39m key__data\n\u001b[1;32m     11\u001b[0m \u001b[38;5;66;03m# Add x and y to lists\u001b[39;00m\n\u001b[0;32m---> 12\u001b[0m \u001b[43mxs\u001b[49m[key]\u001b[38;5;241m.\u001b[39mappend(sensor_data[\u001b[38;5;124m'\u001b[39m\u001b[38;5;124mcreated_at\u001b[39m\u001b[38;5;124m'\u001b[39m])\n\u001b[1;32m     13\u001b[0m ys[key]\u001b[38;5;241m.\u001b[39mappend(sensor_data[\u001b[38;5;124m'\u001b[39m\u001b[38;5;124mPM2.5_CF1_ug/m3\u001b[39m\u001b[38;5;124m'\u001b[39m])\n\u001b[1;32m     15\u001b[0m \u001b[38;5;66;03m# Limit x and y lists to 20 items\u001b[39;00m\n",
      "\u001b[0;31mUnboundLocalError\u001b[0m: local variable 'xs' referenced before assignment"
     ]
    }
   ],
   "source": [
    "run_main(flow)"
   ]
  },
  {
   "cell_type": "code",
   "execution_count": null,
   "id": "f1bd7f78",
   "metadata": {},
   "outputs": [],
   "source": []
  }
 ],
 "metadata": {
  "kernelspec": {
   "display_name": "Python 3 (ipykernel)",
   "language": "python",
   "name": "python3"
  },
  "language_info": {
   "codemirror_mode": {
    "name": "ipython",
    "version": 3
   },
   "file_extension": ".py",
   "mimetype": "text/x-python",
   "name": "python",
   "nbconvert_exporter": "python",
   "pygments_lexer": "ipython3",
   "version": "3.9.0"
  }
 },
 "nbformat": 4,
 "nbformat_minor": 5
}
